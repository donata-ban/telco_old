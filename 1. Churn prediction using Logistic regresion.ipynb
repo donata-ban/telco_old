{
 "cells": [
  {
   "cell_type": "markdown",
   "metadata": {},
   "source": [
    "# Introduction"
   ]
  },
  {
   "cell_type": "markdown",
   "metadata": {},
   "source": [
    "This IBM sample dataset contains information about Telco customers. Each row represents unique costumer, \n",
    "while columns identifies information about customer’s services, account, demographic data and __churn status__ (indication whether the customer left within a month or not).\n",
    "\n",
    "__Raw data contains:__\n",
    "<br> 7043 rows (customers);\n",
    "<br> 21 columns (features).\n",
    "    \n",
    "Analysis focuses on the behavior of telecom customers who are more likely to leave the platform. <br> __The aim:__ is to represent given data by churn breakdown and build Logistic Regression model with only significant features.\n"
   ]
  },
  {
   "cell_type": "code",
   "execution_count": 130,
   "metadata": {},
   "outputs": [],
   "source": [
    "import pandas as pd\n",
    "import numpy as np\n",
    "from sklearn.model_selection import train_test_split\n",
    "from sklearn.linear_model import LogisticRegression\n",
    "import matplotlib.pyplot as plt\n",
    "import seaborn as sns\n",
    "import statsmodels.formula.api as smf\n",
    "import pylab as pl\n",
    "import matplotlib.pyplot as plt\n",
    "\n",
    "from sklearn import metrics\n",
    "from sklearn.metrics import classification_report\n",
    "from sklearn.linear_model import LogisticRegression\n",
    "%matplotlib inline\n",
    "\n",
    "import matplotlib as mpl\n",
    "from scipy import stats"
   ]
  },
  {
   "cell_type": "markdown",
   "metadata": {},
   "source": [
    "# Data overview"
   ]
  },
  {
   "cell_type": "markdown",
   "metadata": {},
   "source": [
    "__Observations:__\n",
    "<br> 11 missing values in the TotalCharges column, which account for only 0.16% of the total number of observations. \n",
    "<br> 3 continuous variables (Tenure, MonthlyCharges and TotalCharges)."
   ]
  },
  {
   "cell_type": "code",
   "execution_count": 131,
   "metadata": {
    "scrolled": true
   },
   "outputs": [
    {
     "data": {
      "text/html": [
       "<div>\n",
       "<style scoped>\n",
       "    .dataframe tbody tr th:only-of-type {\n",
       "        vertical-align: middle;\n",
       "    }\n",
       "\n",
       "    .dataframe tbody tr th {\n",
       "        vertical-align: top;\n",
       "    }\n",
       "\n",
       "    .dataframe thead th {\n",
       "        text-align: right;\n",
       "    }\n",
       "</style>\n",
       "<table border=\"1\" class=\"dataframe\">\n",
       "  <thead>\n",
       "    <tr style=\"text-align: right;\">\n",
       "      <th></th>\n",
       "      <th>customerID</th>\n",
       "      <th>gender</th>\n",
       "      <th>SeniorCitizen</th>\n",
       "      <th>Partner</th>\n",
       "      <th>Dependents</th>\n",
       "      <th>tenure</th>\n",
       "      <th>PhoneService</th>\n",
       "      <th>MultipleLines</th>\n",
       "      <th>InternetService</th>\n",
       "      <th>OnlineSecurity</th>\n",
       "      <th>...</th>\n",
       "      <th>DeviceProtection</th>\n",
       "      <th>TechSupport</th>\n",
       "      <th>StreamingTV</th>\n",
       "      <th>StreamingMovies</th>\n",
       "      <th>Contract</th>\n",
       "      <th>PaperlessBilling</th>\n",
       "      <th>PaymentMethod</th>\n",
       "      <th>MonthlyCharges</th>\n",
       "      <th>TotalCharges</th>\n",
       "      <th>Churn</th>\n",
       "    </tr>\n",
       "  </thead>\n",
       "  <tbody>\n",
       "    <tr>\n",
       "      <th>0</th>\n",
       "      <td>7590-VHVEG</td>\n",
       "      <td>Female</td>\n",
       "      <td>0</td>\n",
       "      <td>Yes</td>\n",
       "      <td>No</td>\n",
       "      <td>1</td>\n",
       "      <td>No</td>\n",
       "      <td>No phone service</td>\n",
       "      <td>DSL</td>\n",
       "      <td>No</td>\n",
       "      <td>...</td>\n",
       "      <td>No</td>\n",
       "      <td>No</td>\n",
       "      <td>No</td>\n",
       "      <td>No</td>\n",
       "      <td>Month-to-month</td>\n",
       "      <td>Yes</td>\n",
       "      <td>Electronic_check</td>\n",
       "      <td>29.85</td>\n",
       "      <td>29.85</td>\n",
       "      <td>No</td>\n",
       "    </tr>\n",
       "    <tr>\n",
       "      <th>1</th>\n",
       "      <td>5575-GNVDE</td>\n",
       "      <td>Male</td>\n",
       "      <td>0</td>\n",
       "      <td>No</td>\n",
       "      <td>No</td>\n",
       "      <td>34</td>\n",
       "      <td>Yes</td>\n",
       "      <td>No</td>\n",
       "      <td>DSL</td>\n",
       "      <td>Yes</td>\n",
       "      <td>...</td>\n",
       "      <td>Yes</td>\n",
       "      <td>No</td>\n",
       "      <td>No</td>\n",
       "      <td>No</td>\n",
       "      <td>One_year</td>\n",
       "      <td>No</td>\n",
       "      <td>Mailed_check</td>\n",
       "      <td>56.95</td>\n",
       "      <td>1889.5</td>\n",
       "      <td>No</td>\n",
       "    </tr>\n",
       "    <tr>\n",
       "      <th>2</th>\n",
       "      <td>3668-QPYBK</td>\n",
       "      <td>Male</td>\n",
       "      <td>0</td>\n",
       "      <td>No</td>\n",
       "      <td>No</td>\n",
       "      <td>2</td>\n",
       "      <td>Yes</td>\n",
       "      <td>No</td>\n",
       "      <td>DSL</td>\n",
       "      <td>Yes</td>\n",
       "      <td>...</td>\n",
       "      <td>No</td>\n",
       "      <td>No</td>\n",
       "      <td>No</td>\n",
       "      <td>No</td>\n",
       "      <td>Month-to-month</td>\n",
       "      <td>Yes</td>\n",
       "      <td>Mailed_check</td>\n",
       "      <td>53.85</td>\n",
       "      <td>108.15</td>\n",
       "      <td>Yes</td>\n",
       "    </tr>\n",
       "    <tr>\n",
       "      <th>3</th>\n",
       "      <td>7795-CFOCW</td>\n",
       "      <td>Male</td>\n",
       "      <td>0</td>\n",
       "      <td>No</td>\n",
       "      <td>No</td>\n",
       "      <td>45</td>\n",
       "      <td>No</td>\n",
       "      <td>No phone service</td>\n",
       "      <td>DSL</td>\n",
       "      <td>Yes</td>\n",
       "      <td>...</td>\n",
       "      <td>Yes</td>\n",
       "      <td>Yes</td>\n",
       "      <td>No</td>\n",
       "      <td>No</td>\n",
       "      <td>One_year</td>\n",
       "      <td>No</td>\n",
       "      <td>Bank_transfer (automatic)</td>\n",
       "      <td>42.30</td>\n",
       "      <td>1840.75</td>\n",
       "      <td>No</td>\n",
       "    </tr>\n",
       "    <tr>\n",
       "      <th>4</th>\n",
       "      <td>9237-HQITU</td>\n",
       "      <td>Female</td>\n",
       "      <td>0</td>\n",
       "      <td>No</td>\n",
       "      <td>No</td>\n",
       "      <td>2</td>\n",
       "      <td>Yes</td>\n",
       "      <td>No</td>\n",
       "      <td>Fiber_optic</td>\n",
       "      <td>No</td>\n",
       "      <td>...</td>\n",
       "      <td>No</td>\n",
       "      <td>No</td>\n",
       "      <td>No</td>\n",
       "      <td>No</td>\n",
       "      <td>Month-to-month</td>\n",
       "      <td>Yes</td>\n",
       "      <td>Electronic_check</td>\n",
       "      <td>70.70</td>\n",
       "      <td>151.65</td>\n",
       "      <td>Yes</td>\n",
       "    </tr>\n",
       "  </tbody>\n",
       "</table>\n",
       "<p>5 rows × 21 columns</p>\n",
       "</div>"
      ],
      "text/plain": [
       "   customerID  gender  SeniorCitizen Partner Dependents  tenure PhoneService  \\\n",
       "0  7590-VHVEG  Female              0     Yes         No       1           No   \n",
       "1  5575-GNVDE    Male              0      No         No      34          Yes   \n",
       "2  3668-QPYBK    Male              0      No         No       2          Yes   \n",
       "3  7795-CFOCW    Male              0      No         No      45           No   \n",
       "4  9237-HQITU  Female              0      No         No       2          Yes   \n",
       "\n",
       "      MultipleLines InternetService OnlineSecurity  ... DeviceProtection  \\\n",
       "0  No phone service             DSL             No  ...               No   \n",
       "1                No             DSL            Yes  ...              Yes   \n",
       "2                No             DSL            Yes  ...               No   \n",
       "3  No phone service             DSL            Yes  ...              Yes   \n",
       "4                No     Fiber_optic             No  ...               No   \n",
       "\n",
       "  TechSupport StreamingTV StreamingMovies        Contract PaperlessBilling  \\\n",
       "0          No          No              No  Month-to-month              Yes   \n",
       "1          No          No              No        One_year               No   \n",
       "2          No          No              No  Month-to-month              Yes   \n",
       "3         Yes          No              No        One_year               No   \n",
       "4          No          No              No  Month-to-month              Yes   \n",
       "\n",
       "               PaymentMethod MonthlyCharges  TotalCharges Churn  \n",
       "0           Electronic_check          29.85         29.85    No  \n",
       "1               Mailed_check          56.95        1889.5    No  \n",
       "2               Mailed_check          53.85        108.15   Yes  \n",
       "3  Bank_transfer (automatic)          42.30       1840.75    No  \n",
       "4           Electronic_check          70.70        151.65   Yes  \n",
       "\n",
       "[5 rows x 21 columns]"
      ]
     },
     "execution_count": 131,
     "metadata": {},
     "output_type": "execute_result"
    }
   ],
   "source": [
    "telco=pd.read_csv('Churn.csv')\n",
    "telco.head()"
   ]
  },
  {
   "cell_type": "code",
   "execution_count": 132,
   "metadata": {},
   "outputs": [
    {
     "name": "stdout",
     "output_type": "stream",
     "text": [
      "Type:\n",
      "\n",
      " customerID           object\n",
      "gender               object\n",
      "SeniorCitizen         int64\n",
      "Partner              object\n",
      "Dependents           object\n",
      "tenure                int64\n",
      "PhoneService         object\n",
      "MultipleLines        object\n",
      "InternetService      object\n",
      "OnlineSecurity       object\n",
      "OnlineBackup         object\n",
      "DeviceProtection     object\n",
      "TechSupport          object\n",
      "StreamingTV          object\n",
      "StreamingMovies      object\n",
      "Contract             object\n",
      "PaperlessBilling     object\n",
      "PaymentMethod        object\n",
      "MonthlyCharges      float64\n",
      "TotalCharges         object\n",
      "Churn                object\n",
      "dtype: object\n"
     ]
    }
   ],
   "source": [
    "print('Type:\\n\\n',telco.dtypes)"
   ]
  },
  {
   "cell_type": "code",
   "execution_count": 133,
   "metadata": {},
   "outputs": [
    {
     "name": "stdout",
     "output_type": "stream",
     "text": [
      "Missing values in dataset:\n",
      "\n",
      " customerID           0\n",
      "gender               0\n",
      "SeniorCitizen        0\n",
      "Partner              0\n",
      "Dependents           0\n",
      "tenure               0\n",
      "PhoneService         0\n",
      "MultipleLines        0\n",
      "InternetService      0\n",
      "OnlineSecurity       0\n",
      "OnlineBackup         0\n",
      "DeviceProtection     0\n",
      "TechSupport          0\n",
      "StreamingTV          0\n",
      "StreamingMovies      0\n",
      "Contract             0\n",
      "PaperlessBilling     0\n",
      "PaymentMethod        0\n",
      "MonthlyCharges       0\n",
      "TotalCharges        11\n",
      "Churn                0\n",
      "dtype: int64\n"
     ]
    }
   ],
   "source": [
    "telco.TotalCharges = pd.to_numeric(telco.TotalCharges, errors=0)\n",
    "print('Missing values in dataset:\\n\\n', telco.isnull().sum())"
   ]
  },
  {
   "cell_type": "code",
   "execution_count": 134,
   "metadata": {},
   "outputs": [
    {
     "data": {
      "text/html": [
       "<div>\n",
       "<style scoped>\n",
       "    .dataframe tbody tr th:only-of-type {\n",
       "        vertical-align: middle;\n",
       "    }\n",
       "\n",
       "    .dataframe tbody tr th {\n",
       "        vertical-align: top;\n",
       "    }\n",
       "\n",
       "    .dataframe thead th {\n",
       "        text-align: right;\n",
       "    }\n",
       "</style>\n",
       "<table border=\"1\" class=\"dataframe\">\n",
       "  <thead>\n",
       "    <tr style=\"text-align: right;\">\n",
       "      <th></th>\n",
       "      <th>tenure</th>\n",
       "      <th>MonthlyCharges</th>\n",
       "      <th>TotalCharges</th>\n",
       "    </tr>\n",
       "  </thead>\n",
       "  <tbody>\n",
       "    <tr>\n",
       "      <th>count</th>\n",
       "      <td>7032.000000</td>\n",
       "      <td>7032.000000</td>\n",
       "      <td>7032.000000</td>\n",
       "    </tr>\n",
       "    <tr>\n",
       "      <th>mean</th>\n",
       "      <td>32.421786</td>\n",
       "      <td>64.798208</td>\n",
       "      <td>2283.300441</td>\n",
       "    </tr>\n",
       "    <tr>\n",
       "      <th>std</th>\n",
       "      <td>24.545260</td>\n",
       "      <td>30.085974</td>\n",
       "      <td>2266.771362</td>\n",
       "    </tr>\n",
       "    <tr>\n",
       "      <th>min</th>\n",
       "      <td>1.000000</td>\n",
       "      <td>18.250000</td>\n",
       "      <td>18.800000</td>\n",
       "    </tr>\n",
       "    <tr>\n",
       "      <th>25%</th>\n",
       "      <td>9.000000</td>\n",
       "      <td>35.587500</td>\n",
       "      <td>401.450000</td>\n",
       "    </tr>\n",
       "    <tr>\n",
       "      <th>50%</th>\n",
       "      <td>29.000000</td>\n",
       "      <td>70.350000</td>\n",
       "      <td>1397.475000</td>\n",
       "    </tr>\n",
       "    <tr>\n",
       "      <th>75%</th>\n",
       "      <td>55.000000</td>\n",
       "      <td>89.862500</td>\n",
       "      <td>3794.737500</td>\n",
       "    </tr>\n",
       "    <tr>\n",
       "      <th>max</th>\n",
       "      <td>72.000000</td>\n",
       "      <td>118.750000</td>\n",
       "      <td>8684.800000</td>\n",
       "    </tr>\n",
       "  </tbody>\n",
       "</table>\n",
       "</div>"
      ],
      "text/plain": [
       "            tenure  MonthlyCharges  TotalCharges\n",
       "count  7032.000000     7032.000000   7032.000000\n",
       "mean     32.421786       64.798208   2283.300441\n",
       "std      24.545260       30.085974   2266.771362\n",
       "min       1.000000       18.250000     18.800000\n",
       "25%       9.000000       35.587500    401.450000\n",
       "50%      29.000000       70.350000   1397.475000\n",
       "75%      55.000000       89.862500   3794.737500\n",
       "max      72.000000      118.750000   8684.800000"
      ]
     },
     "execution_count": 134,
     "metadata": {},
     "output_type": "execute_result"
    }
   ],
   "source": [
    "telco.dropna(inplace = True)\n",
    "telco['SeniorCitizen'] = telco['SeniorCitizen'].replace({1:\"Yes\",0:\"No\"})\n",
    "telco.describe()"
   ]
  },
  {
   "cell_type": "code",
   "execution_count": 135,
   "metadata": {},
   "outputs": [],
   "source": [
    "telco.drop(['customerID', 'MultipleLines', 'StreamingTV', 'StreamingMovies'], axis=1, inplace=True)\n",
    "\n",
    "replace_cols = [ 'OnlineSecurity', 'OnlineBackup', 'DeviceProtection', 'TechSupport']\n",
    "for i in replace_cols : \n",
    "    telco[i]  = telco[i].replace({'No internet service' : 'No'})"
   ]
  },
  {
   "cell_type": "markdown",
   "metadata": {},
   "source": [
    "# Focus variable"
   ]
  },
  {
   "cell_type": "markdown",
   "metadata": {},
   "source": [
    "As it was mentioned before, our focus variable is __churn__ that identifies customers who left within the last month. \n",
    "<br> It counts for more than a quarter of all data (around 27%)."
   ]
  },
  {
   "cell_type": "code",
   "execution_count": 136,
   "metadata": {},
   "outputs": [
    {
     "name": "stdout",
     "output_type": "stream",
     "text": [
      "Churn: Yes -  5163 ( 73.42 %)\n",
      "Churn: No -  1869 ( 26.58 %)\n"
     ]
    },
    {
     "data": {
      "image/png": "[encoded data removed]",
      "text/plain": [
       "<Figure size 468x187.2 with 1 Axes>"
      ]
     },
     "metadata": {
      "needs_background": "light"
     },
     "output_type": "display_data"
    }
   ],
   "source": [
    "ax = sns.catplot(y='Churn', kind='count', data=telco, height=2.6, aspect=2.5, orient='h',palette='GnBu_r',\n",
    "                 order=['Yes','No'])\n",
    "print('Churn: Yes - ', Yes,  '(', round(Yes/len(y)*100,2), '%)')\n",
    "print('Churn: No - ', No,  '(', round(No/len(y)*100,2), '%)')\n",
    "telco['Churn']=telco['Churn'].replace({'Yes':1,'No':0})"
   ]
  },
  {
   "cell_type": "markdown",
   "metadata": {},
   "source": [
    "# Categoriacal data visualization with respect to churn"
   ]
  },
  {
   "cell_type": "markdown",
   "metadata": {},
   "source": [
    "<br> The churn percent is almost equal in case of Male and Female, while senior citizens has significantly higher churn rate in relation with those who have not this status.\n",
    "<br> Customers with Partners and Dependents have lower churn rate in comparison to those who have not.\n",
    "<br> Churn percent is higher in case of cutsomers having paperless billing option.\n",
    "<br> Not surprisingly, that lowest churn percentage is in customers group with the longest contract (Two-year).\n",
    "<br> Electronic check is type of payment that has significantly higher churn rate.\n"
   ]
  },
  {
   "cell_type": "code",
   "execution_count": 137,
   "metadata": {},
   "outputs": [
    {
     "data": {
      "image/png": "[encoded data removed]",
      "text/plain": [
       "<Figure size 1008x720 with 6 Axes>"
      ]
     },
     "metadata": {
      "needs_background": "light"
     },
     "output_type": "display_data"
    }
   ],
   "source": [
    "fig, axis = plt.subplots(2, 3, figsize=(14,10))\n",
    "axis[0,0].set_title('Is male')\n",
    "axis[0,1].set_title('Is senior Citizen')\n",
    "axis[0,2].set_title('Has partner')\n",
    "axis[1,0].set_title('Has dependents')\n",
    "axis[1,1].set_title('Using paperless billing')\n",
    "axis[1,2].set_title('Type of contract')\n",
    "\n",
    "axis_y = 'Percentage of customers'\n",
    "\n",
    "\n",
    "gender_pl = telco.groupby('gender')['Churn'].value_counts()/len(telco)\n",
    "gender_pl = gender_pl.to_frame().rename({'Churn': axis_y}, axis=1).reset_index()\n",
    "ax = sns.barplot(x='gender', y= axis_y, hue='Churn', data=gender_pl, ax=axis[0,0], palette='GnBu_r')\n",
    "\n",
    "SeniorCitizen_pl = telco.groupby('SeniorCitizen')['Churn'].value_counts()/len(telco)\n",
    "SeniorCitizen_pl = SeniorCitizen_pl.to_frame().rename({'Churn': axis_y}, axis=1).reset_index()\n",
    "ax = sns.barplot(x='SeniorCitizen', y= axis_y, hue='Churn', data=SeniorCitizen_pl, ax=axis[0,1], palette='GnBu_r')\n",
    "\n",
    "partner_pl = telco.groupby('Partner')['Churn'].value_counts()/len(telco)\n",
    "partner_pl = partner_pl.to_frame().rename({'Churn': axis_y}, axis=1).reset_index()\n",
    "ax = sns.barplot(x='Partner', y= axis_y, hue='Churn', data=partner_pl, ax=axis[0,2], palette='GnBu_r')\n",
    "\n",
    "depend_pl = telco.groupby('Dependents')['Churn'].value_counts()/len(telco)\n",
    "depend_pl = depend_pl.to_frame().rename({'Churn': axis_y}, axis=1).reset_index()\n",
    "ax = sns.barplot(x='Dependents', y= axis_y, hue='Churn', data=depend_pl, ax=axis[1,0], palette='GnBu_r')\n",
    "\n",
    "paperlessbil_pl = telco.groupby('PaperlessBilling')['Churn'].value_counts()/len(telco)\n",
    "paperlessbil_pl = paperlessbil_pl.to_frame().rename({'Churn': axis_y}, axis=1).reset_index()\n",
    "ax = sns.barplot(x='PaperlessBilling', y= axis_y, hue='Churn', data=paperlessbil_pl, ax=axis[1,1], palette='GnBu_r')\n",
    "\n",
    "contract_pl = telco.groupby('Contract')['Churn'].value_counts()/len(telco)\n",
    "contract_pl = contract_pl.to_frame().rename({'Churn': axis_y}, axis=1).reset_index()\n",
    "ax = sns.barplot(x='Contract', y= axis_y, hue='Churn', data=contract_pl, ax=axis[1,2], palette='GnBu_r')\n"
   ]
  },
  {
   "cell_type": "code",
   "execution_count": 138,
   "metadata": {},
   "outputs": [
    {
     "data": {
      "image/png": "[encoded data removed]",
      "text/plain": [
       "<Figure size 720x360 with 1 Axes>"
      ]
     },
     "metadata": {
      "needs_background": "light"
     },
     "output_type": "display_data"
    }
   ],
   "source": [
    "fig, axis = plt.subplots(1, 1, figsize=(10,5))\n",
    "axis.set_title('Type of Payment')\n",
    "\n",
    "axis_y = 'Percentage of customers'\n",
    "\n",
    "\n",
    "PaymentM_pl = telco.groupby('PaymentMethod')['Churn'].value_counts()/len(telco)\n",
    "PaymentM_pl = PaymentM_pl.to_frame().rename({'Churn': axis_y}, axis=1).reset_index()\n",
    "ax = sns.barplot(x='PaymentMethod', y= axis_y, hue='Churn', data=PaymentM_pl, ax=axis, palette='GnBu_r')\n",
    "\n"
   ]
  },
  {
   "cell_type": "markdown",
   "metadata": {},
   "source": [
    "# Outliers detection"
   ]
  },
  {
   "cell_type": "markdown",
   "metadata": {},
   "source": [
    "In order to ascertain whatever sample comtains outliers or not, few tests are used.\n",
    "<br> Due to results shown below, no data will be removed for further investigation."
   ]
  },
  {
   "cell_type": "code",
   "execution_count": 139,
   "metadata": {},
   "outputs": [
    {
     "data": {
      "text/plain": [
       "(array([0, 1, 2]), <a list of 3 Text xticklabel objects>)"
      ]
     },
     "execution_count": 139,
     "metadata": {},
     "output_type": "execute_result"
    },
    {
     "data": {
      "image/png": "[encoded data removed]",
      "text/plain": [
       "<Figure size 1296x576 with 1 Axes>"
      ]
     },
     "metadata": {
      "needs_background": "light"
     },
     "output_type": "display_data"
    }
   ],
   "source": [
    "num=telco[['tenure', 'MonthlyCharges', 'TotalCharges']]\n",
    "\n",
    "telco_num_stand=(num-num.mean())/(num.std())\n",
    "\n",
    "telco_numeric = pd.concat([y,telco_num_stand], axis=1) \n",
    "telco_numeric = pd.melt(telco_numeric,id_vars='Churn',\n",
    "                    var_name='explanatory variables_mean',\n",
    "                    value_name='value')\n",
    "\n",
    "plt.figure(figsize=(18,8))\n",
    "sns.boxplot(x='explanatory variables_mean', y='value', hue='Churn', palette='GnBu_r', data=telco_numeric)\n",
    "plt.xticks(rotation=90)"
   ]
  },
  {
   "cell_type": "code",
   "execution_count": 140,
   "metadata": {},
   "outputs": [],
   "source": [
    "def outliers(x): \n",
    "       return np.abs(x - x.median()) > 1.5*(x.quantile(.75)-x.quantile(0.25))"
   ]
  },
  {
   "cell_type": "code",
   "execution_count": 141,
   "metadata": {},
   "outputs": [
    {
     "data": {
      "text/html": [
       "<div>\n",
       "<style scoped>\n",
       "    .dataframe tbody tr th:only-of-type {\n",
       "        vertical-align: middle;\n",
       "    }\n",
       "\n",
       "    .dataframe tbody tr th {\n",
       "        vertical-align: top;\n",
       "    }\n",
       "\n",
       "    .dataframe thead th {\n",
       "        text-align: right;\n",
       "    }\n",
       "</style>\n",
       "<table border=\"1\" class=\"dataframe\">\n",
       "  <thead>\n",
       "    <tr style=\"text-align: right;\">\n",
       "      <th></th>\n",
       "      <th>gender</th>\n",
       "      <th>SeniorCitizen</th>\n",
       "      <th>Partner</th>\n",
       "      <th>Dependents</th>\n",
       "      <th>tenure</th>\n",
       "      <th>PhoneService</th>\n",
       "      <th>InternetService</th>\n",
       "      <th>OnlineSecurity</th>\n",
       "      <th>OnlineBackup</th>\n",
       "      <th>DeviceProtection</th>\n",
       "      <th>TechSupport</th>\n",
       "      <th>Contract</th>\n",
       "      <th>PaperlessBilling</th>\n",
       "      <th>PaymentMethod</th>\n",
       "      <th>MonthlyCharges</th>\n",
       "      <th>TotalCharges</th>\n",
       "      <th>Churn</th>\n",
       "    </tr>\n",
       "  </thead>\n",
       "  <tbody>\n",
       "    <tr>\n",
       "      <th>15</th>\n",
       "      <td>Female</td>\n",
       "      <td>No</td>\n",
       "      <td>Yes</td>\n",
       "      <td>Yes</td>\n",
       "      <td>69</td>\n",
       "      <td>Yes</td>\n",
       "      <td>Fiber_optic</td>\n",
       "      <td>Yes</td>\n",
       "      <td>Yes</td>\n",
       "      <td>Yes</td>\n",
       "      <td>Yes</td>\n",
       "      <td>Two_year</td>\n",
       "      <td>No</td>\n",
       "      <td>Credit_card</td>\n",
       "      <td>113.25</td>\n",
       "      <td>7895.15</td>\n",
       "      <td>0</td>\n",
       "    </tr>\n",
       "    <tr>\n",
       "      <th>17</th>\n",
       "      <td>Male</td>\n",
       "      <td>No</td>\n",
       "      <td>No</td>\n",
       "      <td>Yes</td>\n",
       "      <td>71</td>\n",
       "      <td>Yes</td>\n",
       "      <td>Fiber_optic</td>\n",
       "      <td>Yes</td>\n",
       "      <td>No</td>\n",
       "      <td>Yes</td>\n",
       "      <td>No</td>\n",
       "      <td>Two_year</td>\n",
       "      <td>No</td>\n",
       "      <td>Bank_transfer (automatic)</td>\n",
       "      <td>106.70</td>\n",
       "      <td>7382.25</td>\n",
       "      <td>0</td>\n",
       "    </tr>\n",
       "    <tr>\n",
       "      <th>30</th>\n",
       "      <td>Female</td>\n",
       "      <td>Yes</td>\n",
       "      <td>Yes</td>\n",
       "      <td>No</td>\n",
       "      <td>71</td>\n",
       "      <td>Yes</td>\n",
       "      <td>Fiber_optic</td>\n",
       "      <td>Yes</td>\n",
       "      <td>Yes</td>\n",
       "      <td>Yes</td>\n",
       "      <td>Yes</td>\n",
       "      <td>Two_year</td>\n",
       "      <td>Yes</td>\n",
       "      <td>Credit_card</td>\n",
       "      <td>96.35</td>\n",
       "      <td>6766.95</td>\n",
       "      <td>0</td>\n",
       "    </tr>\n",
       "    <tr>\n",
       "      <th>35</th>\n",
       "      <td>Female</td>\n",
       "      <td>No</td>\n",
       "      <td>Yes</td>\n",
       "      <td>Yes</td>\n",
       "      <td>72</td>\n",
       "      <td>Yes</td>\n",
       "      <td>Fiber_optic</td>\n",
       "      <td>Yes</td>\n",
       "      <td>Yes</td>\n",
       "      <td>No</td>\n",
       "      <td>Yes</td>\n",
       "      <td>Two_year</td>\n",
       "      <td>No</td>\n",
       "      <td>Bank_transfer (automatic)</td>\n",
       "      <td>99.90</td>\n",
       "      <td>7251.70</td>\n",
       "      <td>0</td>\n",
       "    </tr>\n",
       "    <tr>\n",
       "      <th>57</th>\n",
       "      <td>Male</td>\n",
       "      <td>Yes</td>\n",
       "      <td>Yes</td>\n",
       "      <td>Yes</td>\n",
       "      <td>66</td>\n",
       "      <td>Yes</td>\n",
       "      <td>Fiber_optic</td>\n",
       "      <td>No</td>\n",
       "      <td>Yes</td>\n",
       "      <td>Yes</td>\n",
       "      <td>Yes</td>\n",
       "      <td>One_year</td>\n",
       "      <td>Yes</td>\n",
       "      <td>Electronic_check</td>\n",
       "      <td>108.45</td>\n",
       "      <td>7076.35</td>\n",
       "      <td>0</td>\n",
       "    </tr>\n",
       "  </tbody>\n",
       "</table>\n",
       "</div>"
      ],
      "text/plain": [
       "    gender SeniorCitizen Partner Dependents  tenure PhoneService  \\\n",
       "15  Female            No     Yes        Yes      69          Yes   \n",
       "17    Male            No      No        Yes      71          Yes   \n",
       "30  Female           Yes     Yes         No      71          Yes   \n",
       "35  Female            No     Yes        Yes      72          Yes   \n",
       "57    Male           Yes     Yes        Yes      66          Yes   \n",
       "\n",
       "   InternetService OnlineSecurity OnlineBackup DeviceProtection TechSupport  \\\n",
       "15     Fiber_optic            Yes          Yes              Yes         Yes   \n",
       "17     Fiber_optic            Yes           No              Yes          No   \n",
       "30     Fiber_optic            Yes          Yes              Yes         Yes   \n",
       "35     Fiber_optic            Yes          Yes               No         Yes   \n",
       "57     Fiber_optic             No          Yes              Yes         Yes   \n",
       "\n",
       "    Contract PaperlessBilling              PaymentMethod  MonthlyCharges  \\\n",
       "15  Two_year               No                Credit_card          113.25   \n",
       "17  Two_year               No  Bank_transfer (automatic)          106.70   \n",
       "30  Two_year              Yes                Credit_card           96.35   \n",
       "35  Two_year               No  Bank_transfer (automatic)           99.90   \n",
       "57  One_year              Yes           Electronic_check          108.45   \n",
       "\n",
       "    TotalCharges  Churn  \n",
       "15       7895.15      0  \n",
       "17       7382.25      0  \n",
       "30       6766.95      0  \n",
       "35       7251.70      0  \n",
       "57       7076.35      0  "
      ]
     },
     "execution_count": 141,
     "metadata": {},
     "output_type": "execute_result"
    }
   ],
   "source": [
    "telco[outliers(telco.TotalCharges)].head()"
   ]
  },
  {
   "cell_type": "code",
   "execution_count": 142,
   "metadata": {},
   "outputs": [],
   "source": [
    "def find_outliers(data):\n",
    "    absolute_normalized = np.abs(stats.zscore(data))\n",
    "    return absolute_normalized > 3"
   ]
  },
  {
   "cell_type": "code",
   "execution_count": 143,
   "metadata": {},
   "outputs": [
    {
     "data": {
      "text/plain": [
       "0"
      ]
     },
     "execution_count": 143,
     "metadata": {},
     "output_type": "execute_result"
    }
   ],
   "source": [
    "a=find_outliers(telco.TotalCharges)\n",
    "sum(a)"
   ]
  },
  {
   "cell_type": "code",
   "execution_count": 144,
   "metadata": {},
   "outputs": [
    {
     "data": {
      "text/plain": [
       "0"
      ]
     },
     "execution_count": 144,
     "metadata": {},
     "output_type": "execute_result"
    }
   ],
   "source": [
    "outliers = np.abs(stats.zscore(telco.TotalCharges))\n",
    "sum(outliers>3)"
   ]
  },
  {
   "cell_type": "markdown",
   "metadata": {},
   "source": [
    "# Multicollinearity check"
   ]
  },
  {
   "cell_type": "markdown",
   "metadata": {},
   "source": [
    "For multicollinearity check correlation matrix is used. \n",
    "<br> As it is visualized below, there are only two points that have to attract our attention:\n",
    "    <br> &emsp; TotalCharges with tenure (corr of 0.83). For this moment we will leave both these variables and will check at logistic regresion stage;\n",
    "    <br> &emsp; MonthlyCharges with InternetService_fiber_optic and InternetService_No (0.79 and 0.76 respectively). Both these variables will be removed due to insignificance in Logistic Regression stage."
   ]
  },
  {
   "cell_type": "code",
   "execution_count": 145,
   "metadata": {},
   "outputs": [],
   "source": [
    "telco_dummies = pd.get_dummies(telco, drop_first=True)\n",
    "telco=telco_dummies"
   ]
  },
  {
   "cell_type": "code",
   "execution_count": 146,
   "metadata": {},
   "outputs": [
    {
     "data": {
      "text/plain": [
       "<matplotlib.axes._subplots.AxesSubplot at 0x2064af51940>"
      ]
     },
     "execution_count": 146,
     "metadata": {},
     "output_type": "execute_result"
    },
    {
     "data": {
      "image/png": "[encoded data removed]",
      "text/plain": [
       "<Figure size 1800x576 with 2 Axes>"
      ]
     },
     "metadata": {
      "needs_background": "light"
     },
     "output_type": "display_data"
    }
   ],
   "source": [
    "# Mask for the upper triangle\n",
    "corr=telco.corr().round(2)\n",
    "mask = np.zeros_like(corr, dtype=np.bool)\n",
    "mask[np.triu_indices_from(mask)] = True\n",
    "\n",
    "# Set figure size\n",
    "plt.figure(figsize=(25,8))\n",
    "sns.heatmap(corr, mask=mask, vmin=-1, vmax=1, annot=True, \n",
    "            cmap=['Chocolate','Peru','Burlywood','Khaki','Khaki',\n",
    "                  'Khaki','Khaki','Khaki','Khaki','Khaki',\n",
    "                  'Khaki','Khaki','Khaki','Khaki','Khaki',\n",
    "                  'Khaki', 'Khaki','Powderblue', 'Lightskyblue','Lightslategrey'],\n",
    "            square=True)"
   ]
  },
  {
   "cell_type": "code",
   "execution_count": 147,
   "metadata": {},
   "outputs": [
    {
     "data": {
      "text/plain": [
       "<matplotlib.axes._subplots.AxesSubplot at 0x2064af1c7b8>"
      ]
     },
     "execution_count": 147,
     "metadata": {},
     "output_type": "execute_result"
    },
    {
     "data": {
      "image/png": "[encoded data removed]",
      "text/plain": [
       "<Figure size 576x576 with 2 Axes>"
      ]
     },
     "metadata": {
      "needs_background": "light"
     },
     "output_type": "display_data"
    }
   ],
   "source": [
    "# Mask for the upper triangle\n",
    "corr=num.corr().round(2)\n",
    "mask = np.zeros_like(corr, dtype=np.bool)\n",
    "mask[np.triu_indices_from(mask)] = True\n",
    "\n",
    "# Set figure size\n",
    "plt.figure(figsize=(8,8))\n",
    "sns.heatmap(corr, mask=mask, vmin=-1, vmax=1, annot=True, \n",
    "            cmap=['Chocolate','Peru','Burlywood','Khaki','Khaki',\n",
    "                  'Khaki','Khaki','Khaki','Khaki','Khaki',\n",
    "                  'Khaki','Khaki','Khaki','Khaki','Khaki',\n",
    "                  'Khaki', 'Khaki','Powderblue', 'Lightskyblue','Lightslategrey'],\n",
    "            square=True)"
   ]
  },
  {
   "cell_type": "markdown",
   "metadata": {},
   "source": [
    "# Test-train split"
   ]
  },
  {
   "cell_type": "code",
   "execution_count": 148,
   "metadata": {},
   "outputs": [],
   "source": [
    "X=telco.drop(['Churn'], axis=1)\n",
    "y=telco.Churn\n",
    "X_train, X_test, y_train, y_test = train_test_split (X,y, test_size=0.2, random_state=1) "
   ]
  },
  {
   "cell_type": "code",
   "execution_count": 149,
   "metadata": {},
   "outputs": [
    {
     "name": "stdout",
     "output_type": "stream",
     "text": [
      "(5625, 20)\n",
      "(1407, 20)\n",
      "(5625,)\n",
      "(1407,)\n"
     ]
    }
   ],
   "source": [
    "for var in [X_train, X_test, y_train, y_test]:\n",
    "    print (var.shape)\n"
   ]
  },
  {
   "cell_type": "markdown",
   "metadata": {},
   "source": [
    "# Predictions"
   ]
  },
  {
   "cell_type": "markdown",
   "metadata": {},
   "source": [
    "Firstly the __Base LR Model__ is built, that brings:\n",
    "<br>__Precision:__ &emsp;&emsp;&emsp;&emsp;&emsp; 0.627831715210356\n",
    "<br>__Recall:__ &emsp;&emsp;&emsp;&emsp;&emsp;&emsp;&emsp; 0.5300546448087432\n",
    "<br>__Accuracy:__ &emsp;&emsp;&emsp;&emsp;&emsp;&emsp; 0.7960199004975125\n",
    "<br>__Area under the curve:__ &emsp; 0.709791971779972\n",
    "\n",
    "Since 7 variables are insignificant (p-value> 0.05), they have to be removed step by step from the model. \n",
    "<br> TotalCharges are also removed from the final model as it brings better model performance (high corr with tenure).\n",
    "\n",
    "The final __LR model__:\n",
    "<br>__Precision:__ &emsp;&emsp;&emsp;&emsp;&emsp;  0.625\n",
    "<br>__Recall:__ &emsp;&emsp;&emsp;&emsp;&emsp;&emsp;&emsp; 0.5327868852459017\n",
    "<br>__Accuracy:__ &emsp;&emsp;&emsp;&emsp;&emsp;&emsp; 0.7953091684434968\n",
    "<br>__Area under the curve:__ &emsp; 0.7101974772050834  "
   ]
  },
  {
   "cell_type": "code",
   "execution_count": 150,
   "metadata": {},
   "outputs": [
    {
     "name": "stderr",
     "output_type": "stream",
     "text": [
      "C:\\ProgramData\\Anaconda3\\lib\\site-packages\\sklearn\\linear_model\\logistic.py:432: FutureWarning: Default solver will be changed to 'lbfgs' in 0.22. Specify a solver to silence this warning.\n",
      "  FutureWarning)\n"
     ]
    }
   ],
   "source": [
    "lg=LogisticRegression()\n",
    "\n",
    "lg.fit(X_train, y_train)\n",
    "predictions=lg.predict(X_test)"
   ]
  },
  {
   "cell_type": "code",
   "execution_count": 151,
   "metadata": {},
   "outputs": [
    {
     "data": {
      "text/plain": [
       "array([[926, 115],\n",
       "       [172, 194]], dtype=int64)"
      ]
     },
     "execution_count": 151,
     "metadata": {},
     "output_type": "execute_result"
    }
   ],
   "source": [
    "conf=metrics.confusion_matrix(y_test, predictions)\n",
    "conf"
   ]
  },
  {
   "cell_type": "code",
   "execution_count": 152,
   "metadata": {},
   "outputs": [
    {
     "data": {
      "image/png": "[encoded data removed]",
      "text/plain": [
       "<Figure size 432x288 with 2 Axes>"
      ]
     },
     "metadata": {
      "needs_background": "light"
     },
     "output_type": "display_data"
    }
   ],
   "source": [
    "fig, ax = plt.subplots()\n",
    "ax= plt.subplot()\n",
    "sns.heatmap(conf,annot=True, ax = ax, cmap='GnBu_r', fmt='d')\n",
    "ax.set_xlabel('Predicted')\n",
    "ax.set_ylabel('Actual') \n",
    "ax.set_title('Confusion Matrix');\n",
    "ax.xaxis.set_ticklabels(['0 - Not churn', '1 - Churn'])\n",
    "ax.yaxis.set_ticklabels(['0 - Not churn', '1 - Churn']);"
   ]
  },
  {
   "cell_type": "code",
   "execution_count": 153,
   "metadata": {
    "scrolled": true
   },
   "outputs": [
    {
     "name": "stdout",
     "output_type": "stream",
     "text": [
      "Precision:\t\t 0.627831715210356\n",
      "Recall:\t\t\t 0.5300546448087432\n",
      "Accuracy:\t\t 0.7960199004975125\n",
      "Area under the curve:\t 0.709791971779972\n"
     ]
    }
   ],
   "source": [
    "print('Precision:\\t\\t', metrics.precision_score(y_test, predictions))\n",
    "print('Recall:\\t\\t\\t', metrics.recall_score(y_test, predictions))\n",
    "print('Accuracy:\\t\\t', metrics.accuracy_score(y_test, predictions))\n",
    "print('Area under the curve:\\t', metrics.roc_auc_score(y_test, predictions))"
   ]
  },
  {
   "cell_type": "code",
   "execution_count": 154,
   "metadata": {},
   "outputs": [
    {
     "name": "stdout",
     "output_type": "stream",
     "text": [
      "Optimization terminated successfully.\n",
      "         Current function value: 0.414769\n",
      "         Iterations 8\n"
     ]
    },
    {
     "data": {
      "text/html": [
       "<table class=\"simpletable\">\n",
       "<caption>Logit Regression Results</caption>\n",
       "<tr>\n",
       "  <th>Dep. Variable:</th>           <td>y</td>        <th>  No. Observations:  </th>  <td>  7032</td> \n",
       "</tr>\n",
       "<tr>\n",
       "  <th>Model:</th>                 <td>Logit</td>      <th>  Df Residuals:      </th>  <td>  7011</td> \n",
       "</tr>\n",
       "<tr>\n",
       "  <th>Method:</th>                 <td>MLE</td>       <th>  Df Model:          </th>  <td>    20</td> \n",
       "</tr>\n",
       "<tr>\n",
       "  <th>Date:</th>            <td>Mon, 16 Sep 2019</td> <th>  Pseudo R-squ.:     </th>  <td>0.2837</td> \n",
       "</tr>\n",
       "<tr>\n",
       "  <th>Time:</th>                <td>00:44:10</td>     <th>  Log-Likelihood:    </th> <td> -2916.7</td>\n",
       "</tr>\n",
       "<tr>\n",
       "  <th>converged:</th>             <td>True</td>       <th>  LL-Null:           </th> <td> -4071.7</td>\n",
       "</tr>\n",
       "<tr>\n",
       "  <th>Covariance Type:</th>     <td>nonrobust</td>    <th>  LLR p-value:       </th>  <td> 0.000</td> \n",
       "</tr>\n",
       "</table>\n",
       "<table class=\"simpletable\">\n",
       "<tr>\n",
       "                 <td></td>                   <th>coef</th>     <th>std err</th>      <th>z</th>      <th>P>|z|</th>  <th>[0.025</th>    <th>0.975]</th>  \n",
       "</tr>\n",
       "<tr>\n",
       "  <th>Intercept</th>                      <td>   -0.3869</td> <td>    0.227</td> <td>   -1.702</td> <td> 0.089</td> <td>   -0.832</td> <td>    0.059</td>\n",
       "</tr>\n",
       "<tr>\n",
       "  <th>tenure</th>                         <td>   -0.0599</td> <td>    0.006</td> <td>   -9.641</td> <td> 0.000</td> <td>   -0.072</td> <td>   -0.048</td>\n",
       "</tr>\n",
       "<tr>\n",
       "  <th>MonthlyCharges</th>                 <td>    0.0208</td> <td>    0.005</td> <td>    4.380</td> <td> 0.000</td> <td>    0.012</td> <td>    0.030</td>\n",
       "</tr>\n",
       "<tr>\n",
       "  <th>gender_Male</th>                    <td>   -0.0240</td> <td>    0.065</td> <td>   -0.371</td> <td> 0.711</td> <td>   -0.151</td> <td>    0.103</td>\n",
       "</tr>\n",
       "<tr>\n",
       "  <th>Partner_Yes</th>                    <td>    0.0043</td> <td>    0.078</td> <td>    0.055</td> <td> 0.956</td> <td>   -0.148</td> <td>    0.157</td>\n",
       "</tr>\n",
       "<tr>\n",
       "  <th>Dependents_Yes</th>                 <td>   -0.1508</td> <td>    0.090</td> <td>   -1.682</td> <td> 0.093</td> <td>   -0.326</td> <td>    0.025</td>\n",
       "</tr>\n",
       "<tr>\n",
       "  <th>InternetService_No</th>             <td>   -0.2626</td> <td>    0.192</td> <td>   -1.370</td> <td> 0.171</td> <td>   -0.638</td> <td>    0.113</td>\n",
       "</tr>\n",
       "<tr>\n",
       "  <th>InternetService_Fiber_optic</th>    <td>    0.2373</td> <td>    0.156</td> <td>    1.518</td> <td> 0.129</td> <td>   -0.069</td> <td>    0.544</td>\n",
       "</tr>\n",
       "<tr>\n",
       "  <th>TotalCharges</th>                   <td>    0.0003</td> <td> 7.04e-05</td> <td>    4.724</td> <td> 0.000</td> <td>    0.000</td> <td>    0.000</td>\n",
       "</tr>\n",
       "<tr>\n",
       "  <th>SeniorCitizen_Yes</th>              <td>    0.2212</td> <td>    0.084</td> <td>    2.623</td> <td> 0.009</td> <td>    0.056</td> <td>    0.387</td>\n",
       "</tr>\n",
       "<tr>\n",
       "  <th>PhoneService_Yes</th>               <td>   -1.0101</td> <td>    0.156</td> <td>   -6.477</td> <td> 0.000</td> <td>   -1.316</td> <td>   -0.704</td>\n",
       "</tr>\n",
       "<tr>\n",
       "  <th>OnlineSecurity_Yes</th>             <td>   -0.5112</td> <td>    0.086</td> <td>   -5.910</td> <td> 0.000</td> <td>   -0.681</td> <td>   -0.342</td>\n",
       "</tr>\n",
       "<tr>\n",
       "  <th>OnlineBackup_Yes</th>               <td>   -0.2772</td> <td>    0.080</td> <td>   -3.474</td> <td> 0.001</td> <td>   -0.434</td> <td>   -0.121</td>\n",
       "</tr>\n",
       "<tr>\n",
       "  <th>DeviceProtection_Yes</th>           <td>   -0.1616</td> <td>    0.085</td> <td>   -1.899</td> <td> 0.058</td> <td>   -0.328</td> <td>    0.005</td>\n",
       "</tr>\n",
       "<tr>\n",
       "  <th>TechSupport_Yes</th>                <td>   -0.4949</td> <td>    0.090</td> <td>   -5.511</td> <td> 0.000</td> <td>   -0.671</td> <td>   -0.319</td>\n",
       "</tr>\n",
       "<tr>\n",
       "  <th>Contract_One_year</th>              <td>   -0.6776</td> <td>    0.107</td> <td>   -6.320</td> <td> 0.000</td> <td>   -0.888</td> <td>   -0.467</td>\n",
       "</tr>\n",
       "<tr>\n",
       "  <th>Contract_Two_year</th>              <td>   -1.3683</td> <td>    0.176</td> <td>   -7.755</td> <td> 0.000</td> <td>   -1.714</td> <td>   -1.022</td>\n",
       "</tr>\n",
       "<tr>\n",
       "  <th>PaperlessBilling_Yes</th>           <td>    0.3495</td> <td>    0.074</td> <td>    4.695</td> <td> 0.000</td> <td>    0.204</td> <td>    0.495</td>\n",
       "</tr>\n",
       "<tr>\n",
       "  <th>PaymentMethod_Electronic_check</th> <td>    0.3033</td> <td>    0.094</td> <td>    3.213</td> <td> 0.001</td> <td>    0.118</td> <td>    0.488</td>\n",
       "</tr>\n",
       "<tr>\n",
       "  <th>PaymentMethod_Credit_card</th>      <td>   -0.0873</td> <td>    0.114</td> <td>   -0.766</td> <td> 0.444</td> <td>   -0.311</td> <td>    0.136</td>\n",
       "</tr>\n",
       "<tr>\n",
       "  <th>PaymentMethod_Mailed_check</th>     <td>   -0.0612</td> <td>    0.115</td> <td>   -0.533</td> <td> 0.594</td> <td>   -0.286</td> <td>    0.164</td>\n",
       "</tr>\n",
       "</table>"
      ],
      "text/plain": [
       "<class 'statsmodels.iolib.summary.Summary'>\n",
       "\"\"\"\n",
       "                           Logit Regression Results                           \n",
       "==============================================================================\n",
       "Dep. Variable:                      y   No. Observations:                 7032\n",
       "Model:                          Logit   Df Residuals:                     7011\n",
       "Method:                           MLE   Df Model:                           20\n",
       "Date:                Mon, 16 Sep 2019   Pseudo R-squ.:                  0.2837\n",
       "Time:                        00:44:10   Log-Likelihood:                -2916.7\n",
       "converged:                       True   LL-Null:                       -4071.7\n",
       "Covariance Type:            nonrobust   LLR p-value:                     0.000\n",
       "==================================================================================================\n",
       "                                     coef    std err          z      P>|z|      [0.025      0.975]\n",
       "--------------------------------------------------------------------------------------------------\n",
       "Intercept                         -0.3869      0.227     -1.702      0.089      -0.832       0.059\n",
       "tenure                            -0.0599      0.006     -9.641      0.000      -0.072      -0.048\n",
       "MonthlyCharges                     0.0208      0.005      4.380      0.000       0.012       0.030\n",
       "gender_Male                       -0.0240      0.065     -0.371      0.711      -0.151       0.103\n",
       "Partner_Yes                        0.0043      0.078      0.055      0.956      -0.148       0.157\n",
       "Dependents_Yes                    -0.1508      0.090     -1.682      0.093      -0.326       0.025\n",
       "InternetService_No                -0.2626      0.192     -1.370      0.171      -0.638       0.113\n",
       "InternetService_Fiber_optic        0.2373      0.156      1.518      0.129      -0.069       0.544\n",
       "TotalCharges                       0.0003   7.04e-05      4.724      0.000       0.000       0.000\n",
       "SeniorCitizen_Yes                  0.2212      0.084      2.623      0.009       0.056       0.387\n",
       "PhoneService_Yes                  -1.0101      0.156     -6.477      0.000      -1.316      -0.704\n",
       "OnlineSecurity_Yes                -0.5112      0.086     -5.910      0.000      -0.681      -0.342\n",
       "OnlineBackup_Yes                  -0.2772      0.080     -3.474      0.001      -0.434      -0.121\n",
       "DeviceProtection_Yes              -0.1616      0.085     -1.899      0.058      -0.328       0.005\n",
       "TechSupport_Yes                   -0.4949      0.090     -5.511      0.000      -0.671      -0.319\n",
       "Contract_One_year                 -0.6776      0.107     -6.320      0.000      -0.888      -0.467\n",
       "Contract_Two_year                 -1.3683      0.176     -7.755      0.000      -1.714      -1.022\n",
       "PaperlessBilling_Yes               0.3495      0.074      4.695      0.000       0.204       0.495\n",
       "PaymentMethod_Electronic_check     0.3033      0.094      3.213      0.001       0.118       0.488\n",
       "PaymentMethod_Credit_card         -0.0873      0.114     -0.766      0.444      -0.311       0.136\n",
       "PaymentMethod_Mailed_check        -0.0612      0.115     -0.533      0.594      -0.286       0.164\n",
       "==================================================================================================\n",
       "\"\"\""
      ]
     },
     "execution_count": 154,
     "metadata": {},
     "output_type": "execute_result"
    }
   ],
   "source": [
    "est=smf.logit('y ~ tenure + MonthlyCharges + gender_Male + Partner_Yes + Dependents_Yes + InternetService_No + InternetService_Fiber_optic + InternetService_No +  TotalCharges + SeniorCitizen_Yes + PhoneService_Yes + OnlineSecurity_Yes + OnlineBackup_Yes + DeviceProtection_Yes + TechSupport_Yes + Contract_One_year + Contract_Two_year + PaperlessBilling_Yes + PaymentMethod_Electronic_check + PaymentMethod_Credit_card + PaymentMethod_Mailed_check',X).fit()\n",
    "est.summary()"
   ]
  },
  {
   "cell_type": "code",
   "execution_count": 155,
   "metadata": {},
   "outputs": [],
   "source": [
    "X.drop(['gender_Male', 'Partner_Yes', 'Dependents_Yes','InternetService_No','InternetService_Fiber_optic', \n",
    "       'PaymentMethod_Credit_card', 'TotalCharges', 'PaymentMethod_Mailed_check'], axis=1, inplace=True)"
   ]
  },
  {
   "cell_type": "code",
   "execution_count": 156,
   "metadata": {},
   "outputs": [
    {
     "name": "stdout",
     "output_type": "stream",
     "text": [
      "Optimization terminated successfully.\n",
      "         Current function value: 0.416902\n",
      "         Iterations 8\n"
     ]
    },
    {
     "data": {
      "text/html": [
       "<table class=\"simpletable\">\n",
       "<caption>Logit Regression Results</caption>\n",
       "<tr>\n",
       "  <th>Dep. Variable:</th>           <td>y</td>        <th>  No. Observations:  </th>  <td>  7032</td> \n",
       "</tr>\n",
       "<tr>\n",
       "  <th>Model:</th>                 <td>Logit</td>      <th>  Df Residuals:      </th>  <td>  7019</td> \n",
       "</tr>\n",
       "<tr>\n",
       "  <th>Method:</th>                 <td>MLE</td>       <th>  Df Model:          </th>  <td>    12</td> \n",
       "</tr>\n",
       "<tr>\n",
       "  <th>Date:</th>            <td>Mon, 16 Sep 2019</td> <th>  Pseudo R-squ.:     </th>  <td>0.2800</td> \n",
       "</tr>\n",
       "<tr>\n",
       "  <th>Time:</th>                <td>00:44:28</td>     <th>  Log-Likelihood:    </th> <td> -2931.7</td>\n",
       "</tr>\n",
       "<tr>\n",
       "  <th>converged:</th>             <td>True</td>       <th>  LL-Null:           </th> <td> -4071.7</td>\n",
       "</tr>\n",
       "<tr>\n",
       "  <th>Covariance Type:</th>     <td>nonrobust</td>    <th>  LLR p-value:       </th>  <td> 0.000</td> \n",
       "</tr>\n",
       "</table>\n",
       "<table class=\"simpletable\">\n",
       "<tr>\n",
       "                 <td></td>                   <th>coef</th>     <th>std err</th>      <th>z</th>      <th>P>|z|</th>  <th>[0.025</th>    <th>0.975]</th>  \n",
       "</tr>\n",
       "<tr>\n",
       "  <th>Intercept</th>                      <td>   -1.1695</td> <td>    0.120</td> <td>   -9.735</td> <td> 0.000</td> <td>   -1.405</td> <td>   -0.934</td>\n",
       "</tr>\n",
       "<tr>\n",
       "  <th>tenure</th>                         <td>   -0.0340</td> <td>    0.002</td> <td>  -15.528</td> <td> 0.000</td> <td>   -0.038</td> <td>   -0.030</td>\n",
       "</tr>\n",
       "<tr>\n",
       "  <th>MonthlyCharges</th>                 <td>    0.0338</td> <td>    0.002</td> <td>   18.383</td> <td> 0.000</td> <td>    0.030</td> <td>    0.037</td>\n",
       "</tr>\n",
       "<tr>\n",
       "  <th>SeniorCitizen_Yes</th>              <td>    0.2561</td> <td>    0.083</td> <td>    3.084</td> <td> 0.002</td> <td>    0.093</td> <td>    0.419</td>\n",
       "</tr>\n",
       "<tr>\n",
       "  <th>PhoneService_Yes</th>               <td>   -1.0707</td> <td>    0.125</td> <td>   -8.598</td> <td> 0.000</td> <td>   -1.315</td> <td>   -0.827</td>\n",
       "</tr>\n",
       "<tr>\n",
       "  <th>OnlineSecurity_Yes</th>             <td>   -0.5391</td> <td>    0.083</td> <td>   -6.465</td> <td> 0.000</td> <td>   -0.703</td> <td>   -0.376</td>\n",
       "</tr>\n",
       "<tr>\n",
       "  <th>OnlineBackup_Yes</th>               <td>   -0.2820</td> <td>    0.077</td> <td>   -3.647</td> <td> 0.000</td> <td>   -0.434</td> <td>   -0.130</td>\n",
       "</tr>\n",
       "<tr>\n",
       "  <th>DeviceProtection_Yes</th>           <td>   -0.1837</td> <td>    0.080</td> <td>   -2.287</td> <td> 0.022</td> <td>   -0.341</td> <td>   -0.026</td>\n",
       "</tr>\n",
       "<tr>\n",
       "  <th>TechSupport_Yes</th>                <td>   -0.5263</td> <td>    0.085</td> <td>   -6.205</td> <td> 0.000</td> <td>   -0.693</td> <td>   -0.360</td>\n",
       "</tr>\n",
       "<tr>\n",
       "  <th>Contract_One_year</th>              <td>   -0.7063</td> <td>    0.105</td> <td>   -6.719</td> <td> 0.000</td> <td>   -0.912</td> <td>   -0.500</td>\n",
       "</tr>\n",
       "<tr>\n",
       "  <th>Contract_Two_year</th>              <td>   -1.3758</td> <td>    0.173</td> <td>   -7.954</td> <td> 0.000</td> <td>   -1.715</td> <td>   -1.037</td>\n",
       "</tr>\n",
       "<tr>\n",
       "  <th>PaperlessBilling_Yes</th>           <td>    0.3442</td> <td>    0.074</td> <td>    4.653</td> <td> 0.000</td> <td>    0.199</td> <td>    0.489</td>\n",
       "</tr>\n",
       "<tr>\n",
       "  <th>PaymentMethod_Electronic_check</th> <td>    0.3451</td> <td>    0.069</td> <td>    4.983</td> <td> 0.000</td> <td>    0.209</td> <td>    0.481</td>\n",
       "</tr>\n",
       "</table>"
      ],
      "text/plain": [
       "<class 'statsmodels.iolib.summary.Summary'>\n",
       "\"\"\"\n",
       "                           Logit Regression Results                           \n",
       "==============================================================================\n",
       "Dep. Variable:                      y   No. Observations:                 7032\n",
       "Model:                          Logit   Df Residuals:                     7019\n",
       "Method:                           MLE   Df Model:                           12\n",
       "Date:                Mon, 16 Sep 2019   Pseudo R-squ.:                  0.2800\n",
       "Time:                        00:44:28   Log-Likelihood:                -2931.7\n",
       "converged:                       True   LL-Null:                       -4071.7\n",
       "Covariance Type:            nonrobust   LLR p-value:                     0.000\n",
       "==================================================================================================\n",
       "                                     coef    std err          z      P>|z|      [0.025      0.975]\n",
       "--------------------------------------------------------------------------------------------------\n",
       "Intercept                         -1.1695      0.120     -9.735      0.000      -1.405      -0.934\n",
       "tenure                            -0.0340      0.002    -15.528      0.000      -0.038      -0.030\n",
       "MonthlyCharges                     0.0338      0.002     18.383      0.000       0.030       0.037\n",
       "SeniorCitizen_Yes                  0.2561      0.083      3.084      0.002       0.093       0.419\n",
       "PhoneService_Yes                  -1.0707      0.125     -8.598      0.000      -1.315      -0.827\n",
       "OnlineSecurity_Yes                -0.5391      0.083     -6.465      0.000      -0.703      -0.376\n",
       "OnlineBackup_Yes                  -0.2820      0.077     -3.647      0.000      -0.434      -0.130\n",
       "DeviceProtection_Yes              -0.1837      0.080     -2.287      0.022      -0.341      -0.026\n",
       "TechSupport_Yes                   -0.5263      0.085     -6.205      0.000      -0.693      -0.360\n",
       "Contract_One_year                 -0.7063      0.105     -6.719      0.000      -0.912      -0.500\n",
       "Contract_Two_year                 -1.3758      0.173     -7.954      0.000      -1.715      -1.037\n",
       "PaperlessBilling_Yes               0.3442      0.074      4.653      0.000       0.199       0.489\n",
       "PaymentMethod_Electronic_check     0.3451      0.069      4.983      0.000       0.209       0.481\n",
       "==================================================================================================\n",
       "\"\"\""
      ]
     },
     "execution_count": 156,
     "metadata": {},
     "output_type": "execute_result"
    }
   ],
   "source": [
    "est=smf.logit('y ~ tenure + MonthlyCharges + SeniorCitizen_Yes + PhoneService_Yes + OnlineSecurity_Yes + OnlineBackup_Yes + DeviceProtection_Yes + TechSupport_Yes + Contract_One_year + Contract_Two_year + PaperlessBilling_Yes + PaymentMethod_Electronic_check',X).fit()\n",
    "est.summary()"
   ]
  },
  {
   "cell_type": "code",
   "execution_count": 157,
   "metadata": {},
   "outputs": [],
   "source": [
    "X_train, X_test, y_train, y_test = train_test_split (X,y, test_size=0.2, random_state=1) "
   ]
  },
  {
   "cell_type": "code",
   "execution_count": 158,
   "metadata": {},
   "outputs": [
    {
     "name": "stdout",
     "output_type": "stream",
     "text": [
      "(5625, 12)\n",
      "(1407, 12)\n",
      "(5625,)\n",
      "(1407,)\n"
     ]
    }
   ],
   "source": [
    "for var in [X_train, X_test, y_train, y_test]:\n",
    "    print (var.shape)\n"
   ]
  },
  {
   "cell_type": "code",
   "execution_count": 159,
   "metadata": {},
   "outputs": [
    {
     "name": "stderr",
     "output_type": "stream",
     "text": [
      "C:\\ProgramData\\Anaconda3\\lib\\site-packages\\sklearn\\linear_model\\logistic.py:432: FutureWarning: Default solver will be changed to 'lbfgs' in 0.22. Specify a solver to silence this warning.\n",
      "  FutureWarning)\n"
     ]
    }
   ],
   "source": [
    "lg=LogisticRegression()\n",
    "\n",
    "lg.fit(X_train, y_train)\n",
    "predictions=lg.predict(X_test)"
   ]
  },
  {
   "cell_type": "code",
   "execution_count": 160,
   "metadata": {},
   "outputs": [
    {
     "data": {
      "text/plain": [
       "array([[924, 117],\n",
       "       [171, 195]], dtype=int64)"
      ]
     },
     "execution_count": 160,
     "metadata": {},
     "output_type": "execute_result"
    }
   ],
   "source": [
    "conf2= metrics.confusion_matrix(y_test, predictions)\n",
    "conf2"
   ]
  },
  {
   "cell_type": "code",
   "execution_count": 161,
   "metadata": {},
   "outputs": [
    {
     "data": {
      "image/png": "[encoded data removed]",
      "text/plain": [
       "<Figure size 432x288 with 2 Axes>"
      ]
     },
     "metadata": {
      "needs_background": "light"
     },
     "output_type": "display_data"
    }
   ],
   "source": [
    "ax= plt.subplot()\n",
    "sns.heatmap(conf2,annot=True, ax = ax, cmap='GnBu_r', fmt='d')\n",
    "ax.set_xlabel('Predicted')\n",
    "ax.set_ylabel('Actual') \n",
    "ax.set_title('Confusion Matrix');\n",
    "ax.xaxis.set_ticklabels(['0 - Not churn', '1 - Churn'])\n",
    "ax.yaxis.set_ticklabels(['0 - Not churn', '1 - Churn']);"
   ]
  },
  {
   "cell_type": "code",
   "execution_count": 162,
   "metadata": {},
   "outputs": [
    {
     "name": "stdout",
     "output_type": "stream",
     "text": [
      "Precision:\t\t 0.625\n",
      "Recall:\t\t\t 0.5327868852459017\n",
      "Accuracy:\t\t 0.7953091684434968\n",
      "Area under the curve:\t 0.7101974772050834\n"
     ]
    }
   ],
   "source": [
    "print('Precision:\\t\\t', metrics.precision_score(y_test, predictions))\n",
    "print('Recall:\\t\\t\\t', metrics.recall_score(y_test, predictions))\n",
    "print('Accuracy:\\t\\t', metrics.accuracy_score(y_test, predictions))\n",
    "print('Area under the curve:\\t', metrics.roc_auc_score(y_test, predictions))"
   ]
  },
  {
   "cell_type": "markdown",
   "metadata": {},
   "source": [
    "# Conclusions"
   ]
  },
  {
   "cell_type": "markdown",
   "metadata": {},
   "source": [
    "The final model has slightly lower precision and accuracy, but higher recall and AUC."
   ]
  }
 ],
 "metadata": {
  "kernelspec": {
   "display_name": "Python 3",
   "language": "python",
   "name": "python3"
  },
  "language_info": {
   "codemirror_mode": {
    "name": "ipython",
    "version": 3
   },
   "file_extension": ".py",
   "mimetype": "text/x-python",
   "name": "python",
   "nbconvert_exporter": "python",
   "pygments_lexer": "ipython3",
   "version": "3.7.3"
  }
 },
 "nbformat": 4,
 "nbformat_minor": 2
}
