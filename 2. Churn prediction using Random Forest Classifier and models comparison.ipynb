{
 "cells": [
  {
   "cell_type": "markdown",
   "metadata": {},
   "source": [
    "# Introduction"
   ]
  },
  {
   "cell_type": "markdown",
   "metadata": {},
   "source": [
    "The aim of further analysis is to build __Random Forest Classifier__ model and compare its performance in regards with already built __Logistic Regression__ model."
   ]
  },
  {
   "cell_type": "code",
   "execution_count": 25,
   "metadata": {},
   "outputs": [],
   "source": [
    "import pandas as pd\n",
    "import numpy as np\n",
    "from sklearn.model_selection import train_test_split\n",
    "from sklearn.linear_model import LogisticRegression\n",
    "import matplotlib.pyplot as plt\n",
    "import seaborn as sns\n",
    "import statsmodels.formula.api as smf\n",
    "import pylab as pl\n",
    "import matplotlib.pyplot as plt\n",
    "\n",
    "\n",
    "from sklearn import metrics\n",
    "from sklearn.metrics import classification_report\n",
    "from sklearn.linear_model import LogisticRegression\n",
    "from sklearn.ensemble import RandomForestClassifier\n",
    "from sklearn.model_selection import GridSearchCV\n",
    "%matplotlib inline\n",
    "\n",
    "import matplotlib as mpl\n",
    "from scipy import stats"
   ]
  },
  {
   "cell_type": "markdown",
   "metadata": {},
   "source": [
    "# Data import and structurization"
   ]
  },
  {
   "cell_type": "code",
   "execution_count": 26,
   "metadata": {},
   "outputs": [],
   "source": [
    "telco_for=pd.read_csv('Churn.csv')\n",
    "telco_for.TotalCharges = pd.to_numeric(telco_for.TotalCharges, errors=0)"
   ]
  },
  {
   "cell_type": "code",
   "execution_count": 27,
   "metadata": {},
   "outputs": [],
   "source": [
    "telco_for.dropna(inplace = True)\n",
    "telco_for.drop(['customerID'], axis=1, inplace=True)\n",
    "telco_for['SeniorCitizen'] = telco_for['SeniorCitizen'].replace({1:\"Yes\",0:\"No\"})\n",
    "\n",
    "replace_cols = [ 'OnlineSecurity', 'OnlineBackup', 'DeviceProtection', 'TechSupport']\n",
    "for i in replace_cols : \n",
    "    telco_for[i]  = telco_for[i].replace({'No internet service' : 'No'})\n",
    "\n",
    "telco_for['Churn']=telco_for['Churn'].replace({'Yes':1,'No':0})"
   ]
  },
  {
   "cell_type": "code",
   "execution_count": 28,
   "metadata": {},
   "outputs": [],
   "source": [
    "telco_for_dummies = pd.get_dummies(telco_for)\n",
    "telco_for=telco_for_dummies"
   ]
  },
  {
   "cell_type": "markdown",
   "metadata": {},
   "source": [
    "# Train-Test split"
   ]
  },
  {
   "cell_type": "code",
   "execution_count": 29,
   "metadata": {},
   "outputs": [],
   "source": [
    "X=telco_for.drop(['Churn'], axis=1)\n",
    "y=telco_for.Churn\n",
    "X_train, X_test, y_train, y_test = train_test_split (X,y, test_size=0.25, random_state=1) "
   ]
  },
  {
   "cell_type": "code",
   "execution_count": 30,
   "metadata": {
    "scrolled": true
   },
   "outputs": [
    {
     "name": "stdout",
     "output_type": "stream",
     "text": [
      "(5274, 42)\n",
      "(1758, 42)\n",
      "(5274,)\n",
      "(1758,)\n"
     ]
    }
   ],
   "source": [
    "for var in [X_train, X_test, y_train, y_test]:\n",
    "    print (var.shape)\n"
   ]
  },
  {
   "cell_type": "markdown",
   "metadata": {},
   "source": [
    "# Predictions"
   ]
  },
  {
   "cell_type": "markdown",
   "metadata": {},
   "source": [
    "The __base Random Forest__ model brings:\n",
    "<br> __Accuracy:__ &emsp;&emsp;&emsp;&emsp;&emsp;&emsp; 0.7960199004975125\n",
    "<br> __Area under the curve:__ &emsp;&emsp; 0.709791971779972\n",
    "\n",
    "In order to improve the model, there is a need to look for optimal __number of estimators, maximum number of features and maximum number of each tree depth__. For this reason function was created.\n",
    "\n",
    "The __final Random Forest__ model improved Accuracy by 2.5% and AUC by more than 4%."
   ]
  },
  {
   "cell_type": "code",
   "execution_count": 14,
   "metadata": {},
   "outputs": [
    {
     "name": "stdout",
     "output_type": "stream",
     "text": [
      "Model accuracy:\t\t 0.7770193401592719\n",
      "Area under the curve\t 0.6619110749880083\n"
     ]
    },
    {
     "name": "stderr",
     "output_type": "stream",
     "text": [
      "C:\\ProgramData\\Anaconda3\\lib\\site-packages\\sklearn\\ensemble\\forest.py:245: FutureWarning: The default value of n_estimators will change from 10 in version 0.20 to 100 in 0.22.\n",
      "  \"10 in version 0.20 to 100 in 0.22.\", FutureWarning)\n"
     ]
    }
   ],
   "source": [
    "model_rf = RandomForestClassifier(random_state=1)\n",
    "model_rf.fit(X_train, y_train)\n",
    "\n",
    "# Make predictions\n",
    "prediction_for= model_rf.predict(X_test)\n",
    "predictions_prob=model_rf\n",
    "print ('Model accuracy:\\t\\t', metrics.accuracy_score(y_test, prediction_for))\n",
    "print ('Area under the curve\\t', metrics.roc_auc_score(y_test, prediction_for))"
   ]
  },
  {
   "cell_type": "code",
   "execution_count": 641,
   "metadata": {},
   "outputs": [
    {
     "data": {
      "text/plain": [
       "(0.8448290432700944, {'max_depth': 6, 'max_features': 14, 'n_estimators': 90})"
      ]
     },
     "execution_count": 641,
     "metadata": {},
     "output_type": "execute_result"
    }
   ],
   "source": [
    "# Finding hyperparameters for Random Forest using GridSearchCV\n",
    "\n",
    "#setting the parameters we want to test\n",
    "params = {'n_estimators' : [30,50,70,80,90],'max_depth' : [4,6,8,10,12,14,16],'max_features': [8,9,10,11,12,14] }\n",
    "\n",
    "#finding best hyperparameters with cross-validation\n",
    "gsearch = GridSearchCV(estimator = model_rf, param_grid = params, scoring='roc_auc', cv=5)\n",
    "gsearch.fit(X_train,y_train)\n",
    "gsearch.best_score_,gsearch.best_params_"
   ]
  },
  {
   "cell_type": "code",
   "execution_count": 15,
   "metadata": {},
   "outputs": [
    {
     "name": "stdout",
     "output_type": "stream",
     "text": [
      "model accuracy\t\t 0.8014789533560864\n",
      "area under the curve\t 0.7041001572243244\n"
     ]
    }
   ],
   "source": [
    "model_rf = RandomForestClassifier(random_state=1, n_estimators=90, max_depth=6, max_features=14) \n",
    "model_rf.fit(X_train, y_train)\n",
    "\n",
    "# Make predictions\n",
    "prediction_for = model_rf.predict(X_test)\n",
    "predictions_prob=model_rf\n",
    "print ('model accuracy\\t\\t', metrics.accuracy_score(y_test, prediction_for))\n",
    "print ('area under the curve\\t', metrics.roc_auc_score(y_test, prediction_for))"
   ]
  },
  {
   "cell_type": "code",
   "execution_count": 16,
   "metadata": {},
   "outputs": [
    {
     "data": {
      "text/plain": [
       "array([[1178,  116],\n",
       "       [ 233,  231]], dtype=int64)"
      ]
     },
     "execution_count": 16,
     "metadata": {},
     "output_type": "execute_result"
    }
   ],
   "source": [
    "conf_for=metrics.confusion_matrix(y_test, prediction_for)\n",
    "conf_for"
   ]
  },
  {
   "cell_type": "code",
   "execution_count": 17,
   "metadata": {
    "scrolled": true
   },
   "outputs": [
    {
     "data": {
      "image/png": "[encoded data removed]",
      "text/plain": [
       "<Figure size 432x288 with 2 Axes>"
      ]
     },
     "metadata": {
      "needs_background": "light"
     },
     "output_type": "display_data"
    }
   ],
   "source": [
    "fig, ax = plt.subplots()\n",
    "ax= plt.subplot()\n",
    "sns.heatmap(conf_for,annot=True, ax = ax, cmap='Blues', fmt='d')\n",
    "ax.set_xlabel('Predicted')\n",
    "ax.set_ylabel('Actual') \n",
    "ax.set_title('Confusion Matrix');\n",
    "ax.xaxis.set_ticklabels(['0 - Not churn', '1 - Churn'])\n",
    "ax.yaxis.set_ticklabels(['0 - Not churn', '1 - Churn']);"
   ]
  },
  {
   "cell_type": "code",
   "execution_count": 18,
   "metadata": {},
   "outputs": [
    {
     "name": "stdout",
     "output_type": "stream",
     "text": [
      "Precision:\t\t 0.6657060518731989\n",
      "Recall:\t\t\t 0.4978448275862069\n",
      "Accuracy:\t\t 0.8014789533560864\n",
      "Area under the curve:\t 0.7041001572243244\n"
     ]
    }
   ],
   "source": [
    "print('Precision:\\t\\t', metrics.precision_score(y_test, prediction_for))\n",
    "print('Recall:\\t\\t\\t', metrics.recall_score(y_test, prediction_for))\n",
    "print('Accuracy:\\t\\t', metrics.accuracy_score(y_test, prediction_for))\n",
    "print('Area under the curve:\\t', metrics.roc_auc_score(y_test, prediction_for))"
   ]
  },
  {
   "cell_type": "code",
   "execution_count": 19,
   "metadata": {},
   "outputs": [
    {
     "data": {
      "text/plain": [
       "<matplotlib.axes._subplots.AxesSubplot at 0x25b39c11908>"
      ]
     },
     "execution_count": 19,
     "metadata": {},
     "output_type": "execute_result"
    },
    {
     "data": {
      "image/png": "[encoded data removed]",
      "text/plain": [
       "<Figure size 432x288 with 1 Axes>"
      ]
     },
     "metadata": {
      "needs_background": "light"
     },
     "output_type": "display_data"
    }
   ],
   "source": [
    "importances = model_rf.feature_importances_\n",
    "weights = pd.Series(importances,\n",
    "                    index=X.columns.values)\n",
    "weights.sort_values()[-12:].plot(kind = 'barh', cmap='Set2')"
   ]
  },
  {
   "cell_type": "markdown",
   "metadata": {},
   "source": [
    "# Logistic Regression and Random Forest Classifier comparison"
   ]
  },
  {
   "cell_type": "markdown",
   "metadata": {},
   "source": [
    "In order to choose model with better performance __Precision, Recall, Accuracy, AUC and Confusion Matrices__ are compared."
   ]
  },
  {
   "cell_type": "code",
   "execution_count": 31,
   "metadata": {},
   "outputs": [
    {
     "name": "stderr",
     "output_type": "stream",
     "text": [
      "C:\\ProgramData\\Anaconda3\\lib\\site-packages\\sklearn\\linear_model\\logistic.py:432: FutureWarning: Default solver will be changed to 'lbfgs' in 0.22. Specify a solver to silence this warning.\n",
      "  FutureWarning)\n"
     ]
    },
    {
     "data": {
      "text/plain": [
       "0.7203022571017428"
      ]
     },
     "execution_count": 31,
     "metadata": {},
     "output_type": "execute_result"
    }
   ],
   "source": [
    "telco=pd.read_csv('Churn.csv')\n",
    "telco.TotalCharges = pd.to_numeric(telco.TotalCharges, errors=0)\n",
    "telco.dropna(inplace = True)\n",
    "telco.drop(['customerID', 'MultipleLines', 'StreamingTV', 'StreamingMovies', ], axis=1, inplace=True)\n",
    "\n",
    "telco['SeniorCitizen'] = telco['SeniorCitizen'].replace({1:\"Yes\",0:\"No\"})\n",
    "replace_cols = [ 'OnlineSecurity', 'OnlineBackup', 'DeviceProtection', 'TechSupport']\n",
    "for i in replace_cols : \n",
    "    telco[i]  = telco[i].replace({'No internet service' : 'No'})\n",
    "telco['Churn']=telco['Churn'].replace({'Yes':1,'No':0})    \n",
    "telco= pd.get_dummies(telco, drop_first=True)\n",
    "\n",
    "X=telco.drop(['Churn', 'gender_Male', 'Partner_Yes', 'Dependents_Yes','InternetService_No','InternetService_Fiber_optic', \n",
    "        'InternetService_No', 'TotalCharges','InternetService_Fiber_optic',\n",
    "       'PaymentMethod_Credit_card', 'PaymentMethod_Mailed_check'], axis=1)\n",
    "y=telco.Churn\n",
    "X_train, X_test, y_train, y_test = train_test_split (X,y, test_size=0.25, random_state=1) \n",
    "\n",
    "lg=LogisticRegression()\n",
    "lg.fit(X_train, y_train)\n",
    "accuracy=lg.score(X_test, y_test)\n",
    "predictions=lg.predict(X_test)\n",
    "\n",
    "conf2= metrics.confusion_matrix(y_test, predictions)\n",
    "\n",
    "metrics.precision_score(y_test, predictions)\n",
    "metrics.recall_score(y_test, predictions)\n",
    "metrics.accuracy_score(y_test, predictions)\n",
    "metrics.roc_auc_score(y_test, predictions)"
   ]
  },
  {
   "cell_type": "markdown",
   "metadata": {},
   "source": [
    "# Model Performances"
   ]
  },
  {
   "cell_type": "code",
   "execution_count": 32,
   "metadata": {},
   "outputs": [
    {
     "data": {
      "text/plain": [
       "<matplotlib.legend.Legend at 0x25b3a65f7b8>"
      ]
     },
     "execution_count": 32,
     "metadata": {},
     "output_type": "execute_result"
    },
    {
     "data": {
      "image/png": "[encoded data removed]",
      "text/plain": [
       "<Figure size 1440x432 with 1 Axes>"
      ]
     },
     "metadata": {
      "needs_background": "light"
     },
     "output_type": "display_data"
    }
   ],
   "source": [
    "ind=np.arange(4)\n",
    "width=0.3\n",
    "height=10\n",
    "fig = plt.figure(figsize=(20,6))\n",
    "ax = fig.add_subplot(111)\n",
    "\n",
    "yvals = [metrics.precision_score(y_test, predictions),\n",
    "metrics.recall_score(y_test, predictions),\n",
    "metrics.accuracy_score(y_test, predictions),\n",
    "metrics.roc_auc_score(y_test, predictions)]\n",
    "rects1 = ax.barh(ind, yvals, width, color='darkseagreen')\n",
    "\n",
    "zvals = [metrics.precision_score(y_test, prediction_for),\n",
    "metrics.recall_score(y_test, prediction_for),\n",
    "metrics.accuracy_score(y_test, prediction_for),\n",
    "metrics.roc_auc_score(y_test, prediction_for)]\n",
    "rects2 = ax.barh(ind+width, zvals, width, color='lightseagreen')\n",
    "\n",
    "\n",
    "ax.set_yticklabels (('Precision', 'Recall', 'Accuracy', 'AUC'))\n",
    "ax.set_yticks(ind+width)\n",
    "ax.set_xlabel( ('Scores'))\n",
    "ax.legend( (rects2[0], rects1[0]), ('Random Forest Classifier','Logistic Regression') )\n",
    "\n",
    "\n"
   ]
  },
  {
   "cell_type": "markdown",
   "metadata": {},
   "source": [
    "# Confusion Matrixes for Models"
   ]
  },
  {
   "cell_type": "code",
   "execution_count": 33,
   "metadata": {
    "scrolled": false
   },
   "outputs": [
    {
     "data": {
      "image/png": "[encoded data removed]",
      "text/plain": [
       "<Figure size 1008x360 with 4 Axes>"
      ]
     },
     "metadata": {
      "needs_background": "light"
     },
     "output_type": "display_data"
    }
   ],
   "source": [
    "fig, (ax1, ax2)= plt.subplots(ncols=2, figsize=(14,5))\n",
    "ax1.set_title('Logistic Regression')\n",
    "ax2.set_title('Random Forest Classifier')\n",
    "\n",
    "sns.heatmap(conf2,annot=True, ax = ax1, cmap='GnBu_r', fmt='d')\n",
    "ax1.set_xlabel('Predicted')\n",
    "ax1.set_ylabel('Actual') \n",
    "ax1.set_title('Logistic Regresion \\n\\nConfusion Matrix');\n",
    "ax1.xaxis.set_ticklabels(['0 - Not churn', '1 - Churn'])\n",
    "ax1.yaxis.set_ticklabels(['0 - Not churn', '1 - Churn']);\n",
    "\n",
    "sns.heatmap(conf_for,annot=True, ax = ax2, cmap='GnBu_r', fmt='d')\n",
    "ax2.set_xlabel('Predicted')\n",
    "ax2.set_ylabel('Actual') \n",
    "ax2.set_title('Random Forest \\n\\nConfusion Matrix');\n",
    "ax2.xaxis.set_ticklabels(['0 - Not churn', '1 - Churn'])\n",
    "ax2.yaxis.set_ticklabels(['0 - Not churn', '1 - Churn']);\n",
    "\n",
    "\n"
   ]
  },
  {
   "cell_type": "markdown",
   "metadata": {},
   "source": [
    "# Conclusions"
   ]
  },
  {
   "cell_type": "markdown",
   "metadata": {},
   "source": [
    "__Random Forest Classifier__ has significantly __higher Precision__ and slightly __better Accuracy__ while __Logistic Regression__ outperforms in __AUC and Recall__. <br> Let's look a bit deeper to the results of confusion matrices. Logistic Regression has slightly less False Negative results (users that were predicted to stay, but left) and slightly more False Positive (users that were predicted to churn, but stayed). This is tradeoff between false negatives and false positives. There is no general rule which mesure is more importhan, thus it is strongly dependent on the problem.\n",
    "<br> However, with reference to the statement that customer's acquisition cost is significantly higher than retention cost and having only limited information about the problem, it seems that __Logistic Regression suppose to be chosen as the main model__ as it better identifies churns."
   ]
  },
  {
   "cell_type": "code",
   "execution_count": null,
   "metadata": {},
   "outputs": [],
   "source": []
  }
 ],
 "metadata": {
  "kernelspec": {
   "display_name": "Python 3",
   "language": "python",
   "name": "python3"
  },
  "language_info": {
   "codemirror_mode": {
    "name": "ipython",
    "version": 3
   },
   "file_extension": ".py",
   "mimetype": "text/x-python",
   "name": "python",
   "nbconvert_exporter": "python",
   "pygments_lexer": "ipython3",
   "version": "3.7.3"
  }
 },
 "nbformat": 4,
 "nbformat_minor": 2
}
